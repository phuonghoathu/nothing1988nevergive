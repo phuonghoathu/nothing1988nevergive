{
  "nbformat": 4,
  "nbformat_minor": 0,
  "metadata": {
    "colab": {
      "provenance": [],
      "include_colab_link": true
    },
    "kernelspec": {
      "name": "python3",
      "display_name": "Python 3"
    },
    "language_info": {
      "name": "python"
    },
    "widgets": {
      "application/vnd.jupyter.widget-state+json": {
        "8d501829d4be4c75aa81c7e90e3efeda": {
          "model_module": "@jupyter-widgets/controls",
          "model_name": "HBoxModel",
          "model_module_version": "1.5.0",
          "state": {
            "_dom_classes": [],
            "_model_module": "@jupyter-widgets/controls",
            "_model_module_version": "1.5.0",
            "_model_name": "HBoxModel",
            "_view_count": null,
            "_view_module": "@jupyter-widgets/controls",
            "_view_module_version": "1.5.0",
            "_view_name": "HBoxView",
            "box_style": "",
            "children": [
              "IPY_MODEL_2b09136f870e42668d570358323d1fdf",
              "IPY_MODEL_96883142a6c240afa31c92c9eed330ef",
              "IPY_MODEL_a4ad58378c3546ca8f16886790326ef2"
            ],
            "layout": "IPY_MODEL_6f93962f4e1f486196ff95f39fbb1edc"
          }
        },
        "2b09136f870e42668d570358323d1fdf": {
          "model_module": "@jupyter-widgets/controls",
          "model_name": "HTMLModel",
          "model_module_version": "1.5.0",
          "state": {
            "_dom_classes": [],
            "_model_module": "@jupyter-widgets/controls",
            "_model_module_version": "1.5.0",
            "_model_name": "HTMLModel",
            "_view_count": null,
            "_view_module": "@jupyter-widgets/controls",
            "_view_module_version": "1.5.0",
            "_view_name": "HTMLView",
            "description": "",
            "description_tooltip": null,
            "layout": "IPY_MODEL_d471e3b0b6fa42aa918f6523930494dd",
            "placeholder": "​",
            "style": "IPY_MODEL_32b72535f0314d14a64172d8734673a6",
            "value": "Generating train split: "
          }
        },
        "96883142a6c240afa31c92c9eed330ef": {
          "model_module": "@jupyter-widgets/controls",
          "model_name": "FloatProgressModel",
          "model_module_version": "1.5.0",
          "state": {
            "_dom_classes": [],
            "_model_module": "@jupyter-widgets/controls",
            "_model_module_version": "1.5.0",
            "_model_name": "FloatProgressModel",
            "_view_count": null,
            "_view_module": "@jupyter-widgets/controls",
            "_view_module_version": "1.5.0",
            "_view_name": "ProgressView",
            "bar_style": "success",
            "description": "",
            "description_tooltip": null,
            "layout": "IPY_MODEL_93a6251d14d84fb7953934f6c2986e20",
            "max": 1,
            "min": 0,
            "orientation": "horizontal",
            "style": "IPY_MODEL_e4ef0da20e8140f69b8170554db59d3c",
            "value": 1
          }
        },
        "a4ad58378c3546ca8f16886790326ef2": {
          "model_module": "@jupyter-widgets/controls",
          "model_name": "HTMLModel",
          "model_module_version": "1.5.0",
          "state": {
            "_dom_classes": [],
            "_model_module": "@jupyter-widgets/controls",
            "_model_module_version": "1.5.0",
            "_model_name": "HTMLModel",
            "_view_count": null,
            "_view_module": "@jupyter-widgets/controls",
            "_view_module_version": "1.5.0",
            "_view_name": "HTMLView",
            "description": "",
            "description_tooltip": null,
            "layout": "IPY_MODEL_c54602a51be34ca1989383bd78c240cf",
            "placeholder": "​",
            "style": "IPY_MODEL_dd2e083e1e6e40d7a5724837029dc003",
            "value": " 10/0 [00:00&lt;00:00, 291.04 examples/s]"
          }
        },
        "6f93962f4e1f486196ff95f39fbb1edc": {
          "model_module": "@jupyter-widgets/base",
          "model_name": "LayoutModel",
          "model_module_version": "1.2.0",
          "state": {
            "_model_module": "@jupyter-widgets/base",
            "_model_module_version": "1.2.0",
            "_model_name": "LayoutModel",
            "_view_count": null,
            "_view_module": "@jupyter-widgets/base",
            "_view_module_version": "1.2.0",
            "_view_name": "LayoutView",
            "align_content": null,
            "align_items": null,
            "align_self": null,
            "border": null,
            "bottom": null,
            "display": null,
            "flex": null,
            "flex_flow": null,
            "grid_area": null,
            "grid_auto_columns": null,
            "grid_auto_flow": null,
            "grid_auto_rows": null,
            "grid_column": null,
            "grid_gap": null,
            "grid_row": null,
            "grid_template_areas": null,
            "grid_template_columns": null,
            "grid_template_rows": null,
            "height": null,
            "justify_content": null,
            "justify_items": null,
            "left": null,
            "margin": null,
            "max_height": null,
            "max_width": null,
            "min_height": null,
            "min_width": null,
            "object_fit": null,
            "object_position": null,
            "order": null,
            "overflow": null,
            "overflow_x": null,
            "overflow_y": null,
            "padding": null,
            "right": null,
            "top": null,
            "visibility": null,
            "width": null
          }
        },
        "d471e3b0b6fa42aa918f6523930494dd": {
          "model_module": "@jupyter-widgets/base",
          "model_name": "LayoutModel",
          "model_module_version": "1.2.0",
          "state": {
            "_model_module": "@jupyter-widgets/base",
            "_model_module_version": "1.2.0",
            "_model_name": "LayoutModel",
            "_view_count": null,
            "_view_module": "@jupyter-widgets/base",
            "_view_module_version": "1.2.0",
            "_view_name": "LayoutView",
            "align_content": null,
            "align_items": null,
            "align_self": null,
            "border": null,
            "bottom": null,
            "display": null,
            "flex": null,
            "flex_flow": null,
            "grid_area": null,
            "grid_auto_columns": null,
            "grid_auto_flow": null,
            "grid_auto_rows": null,
            "grid_column": null,
            "grid_gap": null,
            "grid_row": null,
            "grid_template_areas": null,
            "grid_template_columns": null,
            "grid_template_rows": null,
            "height": null,
            "justify_content": null,
            "justify_items": null,
            "left": null,
            "margin": null,
            "max_height": null,
            "max_width": null,
            "min_height": null,
            "min_width": null,
            "object_fit": null,
            "object_position": null,
            "order": null,
            "overflow": null,
            "overflow_x": null,
            "overflow_y": null,
            "padding": null,
            "right": null,
            "top": null,
            "visibility": null,
            "width": null
          }
        },
        "32b72535f0314d14a64172d8734673a6": {
          "model_module": "@jupyter-widgets/controls",
          "model_name": "DescriptionStyleModel",
          "model_module_version": "1.5.0",
          "state": {
            "_model_module": "@jupyter-widgets/controls",
            "_model_module_version": "1.5.0",
            "_model_name": "DescriptionStyleModel",
            "_view_count": null,
            "_view_module": "@jupyter-widgets/base",
            "_view_module_version": "1.2.0",
            "_view_name": "StyleView",
            "description_width": ""
          }
        },
        "93a6251d14d84fb7953934f6c2986e20": {
          "model_module": "@jupyter-widgets/base",
          "model_name": "LayoutModel",
          "model_module_version": "1.2.0",
          "state": {
            "_model_module": "@jupyter-widgets/base",
            "_model_module_version": "1.2.0",
            "_model_name": "LayoutModel",
            "_view_count": null,
            "_view_module": "@jupyter-widgets/base",
            "_view_module_version": "1.2.0",
            "_view_name": "LayoutView",
            "align_content": null,
            "align_items": null,
            "align_self": null,
            "border": null,
            "bottom": null,
            "display": null,
            "flex": null,
            "flex_flow": null,
            "grid_area": null,
            "grid_auto_columns": null,
            "grid_auto_flow": null,
            "grid_auto_rows": null,
            "grid_column": null,
            "grid_gap": null,
            "grid_row": null,
            "grid_template_areas": null,
            "grid_template_columns": null,
            "grid_template_rows": null,
            "height": null,
            "justify_content": null,
            "justify_items": null,
            "left": null,
            "margin": null,
            "max_height": null,
            "max_width": null,
            "min_height": null,
            "min_width": null,
            "object_fit": null,
            "object_position": null,
            "order": null,
            "overflow": null,
            "overflow_x": null,
            "overflow_y": null,
            "padding": null,
            "right": null,
            "top": null,
            "visibility": null,
            "width": "20px"
          }
        },
        "e4ef0da20e8140f69b8170554db59d3c": {
          "model_module": "@jupyter-widgets/controls",
          "model_name": "ProgressStyleModel",
          "model_module_version": "1.5.0",
          "state": {
            "_model_module": "@jupyter-widgets/controls",
            "_model_module_version": "1.5.0",
            "_model_name": "ProgressStyleModel",
            "_view_count": null,
            "_view_module": "@jupyter-widgets/base",
            "_view_module_version": "1.2.0",
            "_view_name": "StyleView",
            "bar_color": null,
            "description_width": ""
          }
        },
        "c54602a51be34ca1989383bd78c240cf": {
          "model_module": "@jupyter-widgets/base",
          "model_name": "LayoutModel",
          "model_module_version": "1.2.0",
          "state": {
            "_model_module": "@jupyter-widgets/base",
            "_model_module_version": "1.2.0",
            "_model_name": "LayoutModel",
            "_view_count": null,
            "_view_module": "@jupyter-widgets/base",
            "_view_module_version": "1.2.0",
            "_view_name": "LayoutView",
            "align_content": null,
            "align_items": null,
            "align_self": null,
            "border": null,
            "bottom": null,
            "display": null,
            "flex": null,
            "flex_flow": null,
            "grid_area": null,
            "grid_auto_columns": null,
            "grid_auto_flow": null,
            "grid_auto_rows": null,
            "grid_column": null,
            "grid_gap": null,
            "grid_row": null,
            "grid_template_areas": null,
            "grid_template_columns": null,
            "grid_template_rows": null,
            "height": null,
            "justify_content": null,
            "justify_items": null,
            "left": null,
            "margin": null,
            "max_height": null,
            "max_width": null,
            "min_height": null,
            "min_width": null,
            "object_fit": null,
            "object_position": null,
            "order": null,
            "overflow": null,
            "overflow_x": null,
            "overflow_y": null,
            "padding": null,
            "right": null,
            "top": null,
            "visibility": null,
            "width": null
          }
        },
        "dd2e083e1e6e40d7a5724837029dc003": {
          "model_module": "@jupyter-widgets/controls",
          "model_name": "DescriptionStyleModel",
          "model_module_version": "1.5.0",
          "state": {
            "_model_module": "@jupyter-widgets/controls",
            "_model_module_version": "1.5.0",
            "_model_name": "DescriptionStyleModel",
            "_view_count": null,
            "_view_module": "@jupyter-widgets/base",
            "_view_module_version": "1.2.0",
            "_view_name": "StyleView",
            "description_width": ""
          }
        },
        "e80e4ded80d845ea8c6f153e508d442c": {
          "model_module": "@jupyter-widgets/controls",
          "model_name": "HBoxModel",
          "model_module_version": "1.5.0",
          "state": {
            "_dom_classes": [],
            "_model_module": "@jupyter-widgets/controls",
            "_model_module_version": "1.5.0",
            "_model_name": "HBoxModel",
            "_view_count": null,
            "_view_module": "@jupyter-widgets/controls",
            "_view_module_version": "1.5.0",
            "_view_name": "HBoxView",
            "box_style": "",
            "children": [
              "IPY_MODEL_1a778c877f604a20babdeadd5076664a",
              "IPY_MODEL_632da392f7ed425a9648456c72d3e1da",
              "IPY_MODEL_78b64b84de3f4af6b61da5b4513d027f"
            ],
            "layout": "IPY_MODEL_287ee235ea6145228b315c457c90b9e9"
          }
        },
        "1a778c877f604a20babdeadd5076664a": {
          "model_module": "@jupyter-widgets/controls",
          "model_name": "HTMLModel",
          "model_module_version": "1.5.0",
          "state": {
            "_dom_classes": [],
            "_model_module": "@jupyter-widgets/controls",
            "_model_module_version": "1.5.0",
            "_model_name": "HTMLModel",
            "_view_count": null,
            "_view_module": "@jupyter-widgets/controls",
            "_view_module_version": "1.5.0",
            "_view_name": "HTMLView",
            "description": "",
            "description_tooltip": null,
            "layout": "IPY_MODEL_76b75b7ca5ac47e3b86bd2f39222590f",
            "placeholder": "​",
            "style": "IPY_MODEL_a62ac874df6b4dce9b1a1442bce6d477",
            "value": "Uploading the dataset shards: 100%"
          }
        },
        "632da392f7ed425a9648456c72d3e1da": {
          "model_module": "@jupyter-widgets/controls",
          "model_name": "FloatProgressModel",
          "model_module_version": "1.5.0",
          "state": {
            "_dom_classes": [],
            "_model_module": "@jupyter-widgets/controls",
            "_model_module_version": "1.5.0",
            "_model_name": "FloatProgressModel",
            "_view_count": null,
            "_view_module": "@jupyter-widgets/controls",
            "_view_module_version": "1.5.0",
            "_view_name": "ProgressView",
            "bar_style": "success",
            "description": "",
            "description_tooltip": null,
            "layout": "IPY_MODEL_09a19f92d4754279b73fc20c0d1d8c22",
            "max": 1,
            "min": 0,
            "orientation": "horizontal",
            "style": "IPY_MODEL_a318c3b1f5f146949e29ecf591190253",
            "value": 1
          }
        },
        "78b64b84de3f4af6b61da5b4513d027f": {
          "model_module": "@jupyter-widgets/controls",
          "model_name": "HTMLModel",
          "model_module_version": "1.5.0",
          "state": {
            "_dom_classes": [],
            "_model_module": "@jupyter-widgets/controls",
            "_model_module_version": "1.5.0",
            "_model_name": "HTMLModel",
            "_view_count": null,
            "_view_module": "@jupyter-widgets/controls",
            "_view_module_version": "1.5.0",
            "_view_name": "HTMLView",
            "description": "",
            "description_tooltip": null,
            "layout": "IPY_MODEL_d9c6add743cb4a919fa5883815dca134",
            "placeholder": "​",
            "style": "IPY_MODEL_a6aff431cd364fc38f7f08e867eb8a2f",
            "value": " 1/1 [00:00&lt;00:00,  2.16it/s]"
          }
        },
        "287ee235ea6145228b315c457c90b9e9": {
          "model_module": "@jupyter-widgets/base",
          "model_name": "LayoutModel",
          "model_module_version": "1.2.0",
          "state": {
            "_model_module": "@jupyter-widgets/base",
            "_model_module_version": "1.2.0",
            "_model_name": "LayoutModel",
            "_view_count": null,
            "_view_module": "@jupyter-widgets/base",
            "_view_module_version": "1.2.0",
            "_view_name": "LayoutView",
            "align_content": null,
            "align_items": null,
            "align_self": null,
            "border": null,
            "bottom": null,
            "display": null,
            "flex": null,
            "flex_flow": null,
            "grid_area": null,
            "grid_auto_columns": null,
            "grid_auto_flow": null,
            "grid_auto_rows": null,
            "grid_column": null,
            "grid_gap": null,
            "grid_row": null,
            "grid_template_areas": null,
            "grid_template_columns": null,
            "grid_template_rows": null,
            "height": null,
            "justify_content": null,
            "justify_items": null,
            "left": null,
            "margin": null,
            "max_height": null,
            "max_width": null,
            "min_height": null,
            "min_width": null,
            "object_fit": null,
            "object_position": null,
            "order": null,
            "overflow": null,
            "overflow_x": null,
            "overflow_y": null,
            "padding": null,
            "right": null,
            "top": null,
            "visibility": null,
            "width": null
          }
        },
        "76b75b7ca5ac47e3b86bd2f39222590f": {
          "model_module": "@jupyter-widgets/base",
          "model_name": "LayoutModel",
          "model_module_version": "1.2.0",
          "state": {
            "_model_module": "@jupyter-widgets/base",
            "_model_module_version": "1.2.0",
            "_model_name": "LayoutModel",
            "_view_count": null,
            "_view_module": "@jupyter-widgets/base",
            "_view_module_version": "1.2.0",
            "_view_name": "LayoutView",
            "align_content": null,
            "align_items": null,
            "align_self": null,
            "border": null,
            "bottom": null,
            "display": null,
            "flex": null,
            "flex_flow": null,
            "grid_area": null,
            "grid_auto_columns": null,
            "grid_auto_flow": null,
            "grid_auto_rows": null,
            "grid_column": null,
            "grid_gap": null,
            "grid_row": null,
            "grid_template_areas": null,
            "grid_template_columns": null,
            "grid_template_rows": null,
            "height": null,
            "justify_content": null,
            "justify_items": null,
            "left": null,
            "margin": null,
            "max_height": null,
            "max_width": null,
            "min_height": null,
            "min_width": null,
            "object_fit": null,
            "object_position": null,
            "order": null,
            "overflow": null,
            "overflow_x": null,
            "overflow_y": null,
            "padding": null,
            "right": null,
            "top": null,
            "visibility": null,
            "width": null
          }
        },
        "a62ac874df6b4dce9b1a1442bce6d477": {
          "model_module": "@jupyter-widgets/controls",
          "model_name": "DescriptionStyleModel",
          "model_module_version": "1.5.0",
          "state": {
            "_model_module": "@jupyter-widgets/controls",
            "_model_module_version": "1.5.0",
            "_model_name": "DescriptionStyleModel",
            "_view_count": null,
            "_view_module": "@jupyter-widgets/base",
            "_view_module_version": "1.2.0",
            "_view_name": "StyleView",
            "description_width": ""
          }
        },
        "09a19f92d4754279b73fc20c0d1d8c22": {
          "model_module": "@jupyter-widgets/base",
          "model_name": "LayoutModel",
          "model_module_version": "1.2.0",
          "state": {
            "_model_module": "@jupyter-widgets/base",
            "_model_module_version": "1.2.0",
            "_model_name": "LayoutModel",
            "_view_count": null,
            "_view_module": "@jupyter-widgets/base",
            "_view_module_version": "1.2.0",
            "_view_name": "LayoutView",
            "align_content": null,
            "align_items": null,
            "align_self": null,
            "border": null,
            "bottom": null,
            "display": null,
            "flex": null,
            "flex_flow": null,
            "grid_area": null,
            "grid_auto_columns": null,
            "grid_auto_flow": null,
            "grid_auto_rows": null,
            "grid_column": null,
            "grid_gap": null,
            "grid_row": null,
            "grid_template_areas": null,
            "grid_template_columns": null,
            "grid_template_rows": null,
            "height": null,
            "justify_content": null,
            "justify_items": null,
            "left": null,
            "margin": null,
            "max_height": null,
            "max_width": null,
            "min_height": null,
            "min_width": null,
            "object_fit": null,
            "object_position": null,
            "order": null,
            "overflow": null,
            "overflow_x": null,
            "overflow_y": null,
            "padding": null,
            "right": null,
            "top": null,
            "visibility": null,
            "width": null
          }
        },
        "a318c3b1f5f146949e29ecf591190253": {
          "model_module": "@jupyter-widgets/controls",
          "model_name": "ProgressStyleModel",
          "model_module_version": "1.5.0",
          "state": {
            "_model_module": "@jupyter-widgets/controls",
            "_model_module_version": "1.5.0",
            "_model_name": "ProgressStyleModel",
            "_view_count": null,
            "_view_module": "@jupyter-widgets/base",
            "_view_module_version": "1.2.0",
            "_view_name": "StyleView",
            "bar_color": null,
            "description_width": ""
          }
        },
        "d9c6add743cb4a919fa5883815dca134": {
          "model_module": "@jupyter-widgets/base",
          "model_name": "LayoutModel",
          "model_module_version": "1.2.0",
          "state": {
            "_model_module": "@jupyter-widgets/base",
            "_model_module_version": "1.2.0",
            "_model_name": "LayoutModel",
            "_view_count": null,
            "_view_module": "@jupyter-widgets/base",
            "_view_module_version": "1.2.0",
            "_view_name": "LayoutView",
            "align_content": null,
            "align_items": null,
            "align_self": null,
            "border": null,
            "bottom": null,
            "display": null,
            "flex": null,
            "flex_flow": null,
            "grid_area": null,
            "grid_auto_columns": null,
            "grid_auto_flow": null,
            "grid_auto_rows": null,
            "grid_column": null,
            "grid_gap": null,
            "grid_row": null,
            "grid_template_areas": null,
            "grid_template_columns": null,
            "grid_template_rows": null,
            "height": null,
            "justify_content": null,
            "justify_items": null,
            "left": null,
            "margin": null,
            "max_height": null,
            "max_width": null,
            "min_height": null,
            "min_width": null,
            "object_fit": null,
            "object_position": null,
            "order": null,
            "overflow": null,
            "overflow_x": null,
            "overflow_y": null,
            "padding": null,
            "right": null,
            "top": null,
            "visibility": null,
            "width": null
          }
        },
        "a6aff431cd364fc38f7f08e867eb8a2f": {
          "model_module": "@jupyter-widgets/controls",
          "model_name": "DescriptionStyleModel",
          "model_module_version": "1.5.0",
          "state": {
            "_model_module": "@jupyter-widgets/controls",
            "_model_module_version": "1.5.0",
            "_model_name": "DescriptionStyleModel",
            "_view_count": null,
            "_view_module": "@jupyter-widgets/base",
            "_view_module_version": "1.2.0",
            "_view_name": "StyleView",
            "description_width": ""
          }
        },
        "f03d60cd4da840f4822f7f3a61003bad": {
          "model_module": "@jupyter-widgets/controls",
          "model_name": "HBoxModel",
          "model_module_version": "1.5.0",
          "state": {
            "_dom_classes": [],
            "_model_module": "@jupyter-widgets/controls",
            "_model_module_version": "1.5.0",
            "_model_name": "HBoxModel",
            "_view_count": null,
            "_view_module": "@jupyter-widgets/controls",
            "_view_module_version": "1.5.0",
            "_view_name": "HBoxView",
            "box_style": "",
            "children": [
              "IPY_MODEL_e7172e438db94856ab95c25d6c6bb6ea",
              "IPY_MODEL_087453ee3e044b7291af0965cbc6a572",
              "IPY_MODEL_d355c4abaa644ca58046e8811ab67e10"
            ],
            "layout": "IPY_MODEL_1e1a34123d704b0d86a381d2986a45d5"
          }
        },
        "e7172e438db94856ab95c25d6c6bb6ea": {
          "model_module": "@jupyter-widgets/controls",
          "model_name": "HTMLModel",
          "model_module_version": "1.5.0",
          "state": {
            "_dom_classes": [],
            "_model_module": "@jupyter-widgets/controls",
            "_model_module_version": "1.5.0",
            "_model_name": "HTMLModel",
            "_view_count": null,
            "_view_module": "@jupyter-widgets/controls",
            "_view_module_version": "1.5.0",
            "_view_name": "HTMLView",
            "description": "",
            "description_tooltip": null,
            "layout": "IPY_MODEL_79b276b38f884496b1430aea8e7764fa",
            "placeholder": "​",
            "style": "IPY_MODEL_473ff113ce324cfdbd3e53294dd35134",
            "value": "Creating parquet from Arrow format: 100%"
          }
        },
        "087453ee3e044b7291af0965cbc6a572": {
          "model_module": "@jupyter-widgets/controls",
          "model_name": "FloatProgressModel",
          "model_module_version": "1.5.0",
          "state": {
            "_dom_classes": [],
            "_model_module": "@jupyter-widgets/controls",
            "_model_module_version": "1.5.0",
            "_model_name": "FloatProgressModel",
            "_view_count": null,
            "_view_module": "@jupyter-widgets/controls",
            "_view_module_version": "1.5.0",
            "_view_name": "ProgressView",
            "bar_style": "success",
            "description": "",
            "description_tooltip": null,
            "layout": "IPY_MODEL_5e8d46f783204b9ca5738d1470ea806f",
            "max": 1,
            "min": 0,
            "orientation": "horizontal",
            "style": "IPY_MODEL_67cdc7f5053948968cd2068468fba524",
            "value": 1
          }
        },
        "d355c4abaa644ca58046e8811ab67e10": {
          "model_module": "@jupyter-widgets/controls",
          "model_name": "HTMLModel",
          "model_module_version": "1.5.0",
          "state": {
            "_dom_classes": [],
            "_model_module": "@jupyter-widgets/controls",
            "_model_module_version": "1.5.0",
            "_model_name": "HTMLModel",
            "_view_count": null,
            "_view_module": "@jupyter-widgets/controls",
            "_view_module_version": "1.5.0",
            "_view_name": "HTMLView",
            "description": "",
            "description_tooltip": null,
            "layout": "IPY_MODEL_7123046189424ae3ade44a8be589018d",
            "placeholder": "​",
            "style": "IPY_MODEL_a4eaf0b7512b4437ad3aa7301624b37b",
            "value": " 1/1 [00:00&lt;00:00, 30.13ba/s]"
          }
        },
        "1e1a34123d704b0d86a381d2986a45d5": {
          "model_module": "@jupyter-widgets/base",
          "model_name": "LayoutModel",
          "model_module_version": "1.2.0",
          "state": {
            "_model_module": "@jupyter-widgets/base",
            "_model_module_version": "1.2.0",
            "_model_name": "LayoutModel",
            "_view_count": null,
            "_view_module": "@jupyter-widgets/base",
            "_view_module_version": "1.2.0",
            "_view_name": "LayoutView",
            "align_content": null,
            "align_items": null,
            "align_self": null,
            "border": null,
            "bottom": null,
            "display": null,
            "flex": null,
            "flex_flow": null,
            "grid_area": null,
            "grid_auto_columns": null,
            "grid_auto_flow": null,
            "grid_auto_rows": null,
            "grid_column": null,
            "grid_gap": null,
            "grid_row": null,
            "grid_template_areas": null,
            "grid_template_columns": null,
            "grid_template_rows": null,
            "height": null,
            "justify_content": null,
            "justify_items": null,
            "left": null,
            "margin": null,
            "max_height": null,
            "max_width": null,
            "min_height": null,
            "min_width": null,
            "object_fit": null,
            "object_position": null,
            "order": null,
            "overflow": null,
            "overflow_x": null,
            "overflow_y": null,
            "padding": null,
            "right": null,
            "top": null,
            "visibility": null,
            "width": null
          }
        },
        "79b276b38f884496b1430aea8e7764fa": {
          "model_module": "@jupyter-widgets/base",
          "model_name": "LayoutModel",
          "model_module_version": "1.2.0",
          "state": {
            "_model_module": "@jupyter-widgets/base",
            "_model_module_version": "1.2.0",
            "_model_name": "LayoutModel",
            "_view_count": null,
            "_view_module": "@jupyter-widgets/base",
            "_view_module_version": "1.2.0",
            "_view_name": "LayoutView",
            "align_content": null,
            "align_items": null,
            "align_self": null,
            "border": null,
            "bottom": null,
            "display": null,
            "flex": null,
            "flex_flow": null,
            "grid_area": null,
            "grid_auto_columns": null,
            "grid_auto_flow": null,
            "grid_auto_rows": null,
            "grid_column": null,
            "grid_gap": null,
            "grid_row": null,
            "grid_template_areas": null,
            "grid_template_columns": null,
            "grid_template_rows": null,
            "height": null,
            "justify_content": null,
            "justify_items": null,
            "left": null,
            "margin": null,
            "max_height": null,
            "max_width": null,
            "min_height": null,
            "min_width": null,
            "object_fit": null,
            "object_position": null,
            "order": null,
            "overflow": null,
            "overflow_x": null,
            "overflow_y": null,
            "padding": null,
            "right": null,
            "top": null,
            "visibility": null,
            "width": null
          }
        },
        "473ff113ce324cfdbd3e53294dd35134": {
          "model_module": "@jupyter-widgets/controls",
          "model_name": "DescriptionStyleModel",
          "model_module_version": "1.5.0",
          "state": {
            "_model_module": "@jupyter-widgets/controls",
            "_model_module_version": "1.5.0",
            "_model_name": "DescriptionStyleModel",
            "_view_count": null,
            "_view_module": "@jupyter-widgets/base",
            "_view_module_version": "1.2.0",
            "_view_name": "StyleView",
            "description_width": ""
          }
        },
        "5e8d46f783204b9ca5738d1470ea806f": {
          "model_module": "@jupyter-widgets/base",
          "model_name": "LayoutModel",
          "model_module_version": "1.2.0",
          "state": {
            "_model_module": "@jupyter-widgets/base",
            "_model_module_version": "1.2.0",
            "_model_name": "LayoutModel",
            "_view_count": null,
            "_view_module": "@jupyter-widgets/base",
            "_view_module_version": "1.2.0",
            "_view_name": "LayoutView",
            "align_content": null,
            "align_items": null,
            "align_self": null,
            "border": null,
            "bottom": null,
            "display": null,
            "flex": null,
            "flex_flow": null,
            "grid_area": null,
            "grid_auto_columns": null,
            "grid_auto_flow": null,
            "grid_auto_rows": null,
            "grid_column": null,
            "grid_gap": null,
            "grid_row": null,
            "grid_template_areas": null,
            "grid_template_columns": null,
            "grid_template_rows": null,
            "height": null,
            "justify_content": null,
            "justify_items": null,
            "left": null,
            "margin": null,
            "max_height": null,
            "max_width": null,
            "min_height": null,
            "min_width": null,
            "object_fit": null,
            "object_position": null,
            "order": null,
            "overflow": null,
            "overflow_x": null,
            "overflow_y": null,
            "padding": null,
            "right": null,
            "top": null,
            "visibility": null,
            "width": null
          }
        },
        "67cdc7f5053948968cd2068468fba524": {
          "model_module": "@jupyter-widgets/controls",
          "model_name": "ProgressStyleModel",
          "model_module_version": "1.5.0",
          "state": {
            "_model_module": "@jupyter-widgets/controls",
            "_model_module_version": "1.5.0",
            "_model_name": "ProgressStyleModel",
            "_view_count": null,
            "_view_module": "@jupyter-widgets/base",
            "_view_module_version": "1.2.0",
            "_view_name": "StyleView",
            "bar_color": null,
            "description_width": ""
          }
        },
        "7123046189424ae3ade44a8be589018d": {
          "model_module": "@jupyter-widgets/base",
          "model_name": "LayoutModel",
          "model_module_version": "1.2.0",
          "state": {
            "_model_module": "@jupyter-widgets/base",
            "_model_module_version": "1.2.0",
            "_model_name": "LayoutModel",
            "_view_count": null,
            "_view_module": "@jupyter-widgets/base",
            "_view_module_version": "1.2.0",
            "_view_name": "LayoutView",
            "align_content": null,
            "align_items": null,
            "align_self": null,
            "border": null,
            "bottom": null,
            "display": null,
            "flex": null,
            "flex_flow": null,
            "grid_area": null,
            "grid_auto_columns": null,
            "grid_auto_flow": null,
            "grid_auto_rows": null,
            "grid_column": null,
            "grid_gap": null,
            "grid_row": null,
            "grid_template_areas": null,
            "grid_template_columns": null,
            "grid_template_rows": null,
            "height": null,
            "justify_content": null,
            "justify_items": null,
            "left": null,
            "margin": null,
            "max_height": null,
            "max_width": null,
            "min_height": null,
            "min_width": null,
            "object_fit": null,
            "object_position": null,
            "order": null,
            "overflow": null,
            "overflow_x": null,
            "overflow_y": null,
            "padding": null,
            "right": null,
            "top": null,
            "visibility": null,
            "width": null
          }
        },
        "a4eaf0b7512b4437ad3aa7301624b37b": {
          "model_module": "@jupyter-widgets/controls",
          "model_name": "DescriptionStyleModel",
          "model_module_version": "1.5.0",
          "state": {
            "_model_module": "@jupyter-widgets/controls",
            "_model_module_version": "1.5.0",
            "_model_name": "DescriptionStyleModel",
            "_view_count": null,
            "_view_module": "@jupyter-widgets/base",
            "_view_module_version": "1.2.0",
            "_view_name": "StyleView",
            "description_width": ""
          }
        },
        "3b5248f26f6c444eb050a834d2349cf1": {
          "model_module": "@jupyter-widgets/controls",
          "model_name": "HBoxModel",
          "model_module_version": "1.5.0",
          "state": {
            "_dom_classes": [],
            "_model_module": "@jupyter-widgets/controls",
            "_model_module_version": "1.5.0",
            "_model_name": "HBoxModel",
            "_view_count": null,
            "_view_module": "@jupyter-widgets/controls",
            "_view_module_version": "1.5.0",
            "_view_name": "HBoxView",
            "box_style": "",
            "children": [
              "IPY_MODEL_8be9e19255b34d61a8aea87e7e22b7f1",
              "IPY_MODEL_0a914156a03647f98a74f1511b1e6f2f",
              "IPY_MODEL_24767e95dba14d3c804d27334818c693"
            ],
            "layout": "IPY_MODEL_8610c751a6544fddbf6c86ab7fa2a9cd"
          }
        },
        "8be9e19255b34d61a8aea87e7e22b7f1": {
          "model_module": "@jupyter-widgets/controls",
          "model_name": "HTMLModel",
          "model_module_version": "1.5.0",
          "state": {
            "_dom_classes": [],
            "_model_module": "@jupyter-widgets/controls",
            "_model_module_version": "1.5.0",
            "_model_name": "HTMLModel",
            "_view_count": null,
            "_view_module": "@jupyter-widgets/controls",
            "_view_module_version": "1.5.0",
            "_view_name": "HTMLView",
            "description": "",
            "description_tooltip": null,
            "layout": "IPY_MODEL_0f74615facfc4d6cb3b38a5b0c0993cd",
            "placeholder": "​",
            "style": "IPY_MODEL_7c1bf77af921460d82d1fb3a4b22a2fd",
            "value": "README.md: 100%"
          }
        },
        "0a914156a03647f98a74f1511b1e6f2f": {
          "model_module": "@jupyter-widgets/controls",
          "model_name": "FloatProgressModel",
          "model_module_version": "1.5.0",
          "state": {
            "_dom_classes": [],
            "_model_module": "@jupyter-widgets/controls",
            "_model_module_version": "1.5.0",
            "_model_name": "FloatProgressModel",
            "_view_count": null,
            "_view_module": "@jupyter-widgets/controls",
            "_view_module_version": "1.5.0",
            "_view_name": "ProgressView",
            "bar_style": "success",
            "description": "",
            "description_tooltip": null,
            "layout": "IPY_MODEL_4681ab4e4f5a467e9b4fb9d0d8ce1f76",
            "max": 339,
            "min": 0,
            "orientation": "horizontal",
            "style": "IPY_MODEL_0d921bfd727941da8dfff5008573e3f0",
            "value": 339
          }
        },
        "24767e95dba14d3c804d27334818c693": {
          "model_module": "@jupyter-widgets/controls",
          "model_name": "HTMLModel",
          "model_module_version": "1.5.0",
          "state": {
            "_dom_classes": [],
            "_model_module": "@jupyter-widgets/controls",
            "_model_module_version": "1.5.0",
            "_model_name": "HTMLModel",
            "_view_count": null,
            "_view_module": "@jupyter-widgets/controls",
            "_view_module_version": "1.5.0",
            "_view_name": "HTMLView",
            "description": "",
            "description_tooltip": null,
            "layout": "IPY_MODEL_a89469d3c3844f09ad1bbe2c786914be",
            "placeholder": "​",
            "style": "IPY_MODEL_3352a62bba3e43efa134af419473f2c9",
            "value": " 339/339 [00:00&lt;00:00, 10.4kB/s]"
          }
        },
        "8610c751a6544fddbf6c86ab7fa2a9cd": {
          "model_module": "@jupyter-widgets/base",
          "model_name": "LayoutModel",
          "model_module_version": "1.2.0",
          "state": {
            "_model_module": "@jupyter-widgets/base",
            "_model_module_version": "1.2.0",
            "_model_name": "LayoutModel",
            "_view_count": null,
            "_view_module": "@jupyter-widgets/base",
            "_view_module_version": "1.2.0",
            "_view_name": "LayoutView",
            "align_content": null,
            "align_items": null,
            "align_self": null,
            "border": null,
            "bottom": null,
            "display": null,
            "flex": null,
            "flex_flow": null,
            "grid_area": null,
            "grid_auto_columns": null,
            "grid_auto_flow": null,
            "grid_auto_rows": null,
            "grid_column": null,
            "grid_gap": null,
            "grid_row": null,
            "grid_template_areas": null,
            "grid_template_columns": null,
            "grid_template_rows": null,
            "height": null,
            "justify_content": null,
            "justify_items": null,
            "left": null,
            "margin": null,
            "max_height": null,
            "max_width": null,
            "min_height": null,
            "min_width": null,
            "object_fit": null,
            "object_position": null,
            "order": null,
            "overflow": null,
            "overflow_x": null,
            "overflow_y": null,
            "padding": null,
            "right": null,
            "top": null,
            "visibility": null,
            "width": null
          }
        },
        "0f74615facfc4d6cb3b38a5b0c0993cd": {
          "model_module": "@jupyter-widgets/base",
          "model_name": "LayoutModel",
          "model_module_version": "1.2.0",
          "state": {
            "_model_module": "@jupyter-widgets/base",
            "_model_module_version": "1.2.0",
            "_model_name": "LayoutModel",
            "_view_count": null,
            "_view_module": "@jupyter-widgets/base",
            "_view_module_version": "1.2.0",
            "_view_name": "LayoutView",
            "align_content": null,
            "align_items": null,
            "align_self": null,
            "border": null,
            "bottom": null,
            "display": null,
            "flex": null,
            "flex_flow": null,
            "grid_area": null,
            "grid_auto_columns": null,
            "grid_auto_flow": null,
            "grid_auto_rows": null,
            "grid_column": null,
            "grid_gap": null,
            "grid_row": null,
            "grid_template_areas": null,
            "grid_template_columns": null,
            "grid_template_rows": null,
            "height": null,
            "justify_content": null,
            "justify_items": null,
            "left": null,
            "margin": null,
            "max_height": null,
            "max_width": null,
            "min_height": null,
            "min_width": null,
            "object_fit": null,
            "object_position": null,
            "order": null,
            "overflow": null,
            "overflow_x": null,
            "overflow_y": null,
            "padding": null,
            "right": null,
            "top": null,
            "visibility": null,
            "width": null
          }
        },
        "7c1bf77af921460d82d1fb3a4b22a2fd": {
          "model_module": "@jupyter-widgets/controls",
          "model_name": "DescriptionStyleModel",
          "model_module_version": "1.5.0",
          "state": {
            "_model_module": "@jupyter-widgets/controls",
            "_model_module_version": "1.5.0",
            "_model_name": "DescriptionStyleModel",
            "_view_count": null,
            "_view_module": "@jupyter-widgets/base",
            "_view_module_version": "1.2.0",
            "_view_name": "StyleView",
            "description_width": ""
          }
        },
        "4681ab4e4f5a467e9b4fb9d0d8ce1f76": {
          "model_module": "@jupyter-widgets/base",
          "model_name": "LayoutModel",
          "model_module_version": "1.2.0",
          "state": {
            "_model_module": "@jupyter-widgets/base",
            "_model_module_version": "1.2.0",
            "_model_name": "LayoutModel",
            "_view_count": null,
            "_view_module": "@jupyter-widgets/base",
            "_view_module_version": "1.2.0",
            "_view_name": "LayoutView",
            "align_content": null,
            "align_items": null,
            "align_self": null,
            "border": null,
            "bottom": null,
            "display": null,
            "flex": null,
            "flex_flow": null,
            "grid_area": null,
            "grid_auto_columns": null,
            "grid_auto_flow": null,
            "grid_auto_rows": null,
            "grid_column": null,
            "grid_gap": null,
            "grid_row": null,
            "grid_template_areas": null,
            "grid_template_columns": null,
            "grid_template_rows": null,
            "height": null,
            "justify_content": null,
            "justify_items": null,
            "left": null,
            "margin": null,
            "max_height": null,
            "max_width": null,
            "min_height": null,
            "min_width": null,
            "object_fit": null,
            "object_position": null,
            "order": null,
            "overflow": null,
            "overflow_x": null,
            "overflow_y": null,
            "padding": null,
            "right": null,
            "top": null,
            "visibility": null,
            "width": null
          }
        },
        "0d921bfd727941da8dfff5008573e3f0": {
          "model_module": "@jupyter-widgets/controls",
          "model_name": "ProgressStyleModel",
          "model_module_version": "1.5.0",
          "state": {
            "_model_module": "@jupyter-widgets/controls",
            "_model_module_version": "1.5.0",
            "_model_name": "ProgressStyleModel",
            "_view_count": null,
            "_view_module": "@jupyter-widgets/base",
            "_view_module_version": "1.2.0",
            "_view_name": "StyleView",
            "bar_color": null,
            "description_width": ""
          }
        },
        "a89469d3c3844f09ad1bbe2c786914be": {
          "model_module": "@jupyter-widgets/base",
          "model_name": "LayoutModel",
          "model_module_version": "1.2.0",
          "state": {
            "_model_module": "@jupyter-widgets/base",
            "_model_module_version": "1.2.0",
            "_model_name": "LayoutModel",
            "_view_count": null,
            "_view_module": "@jupyter-widgets/base",
            "_view_module_version": "1.2.0",
            "_view_name": "LayoutView",
            "align_content": null,
            "align_items": null,
            "align_self": null,
            "border": null,
            "bottom": null,
            "display": null,
            "flex": null,
            "flex_flow": null,
            "grid_area": null,
            "grid_auto_columns": null,
            "grid_auto_flow": null,
            "grid_auto_rows": null,
            "grid_column": null,
            "grid_gap": null,
            "grid_row": null,
            "grid_template_areas": null,
            "grid_template_columns": null,
            "grid_template_rows": null,
            "height": null,
            "justify_content": null,
            "justify_items": null,
            "left": null,
            "margin": null,
            "max_height": null,
            "max_width": null,
            "min_height": null,
            "min_width": null,
            "object_fit": null,
            "object_position": null,
            "order": null,
            "overflow": null,
            "overflow_x": null,
            "overflow_y": null,
            "padding": null,
            "right": null,
            "top": null,
            "visibility": null,
            "width": null
          }
        },
        "3352a62bba3e43efa134af419473f2c9": {
          "model_module": "@jupyter-widgets/controls",
          "model_name": "DescriptionStyleModel",
          "model_module_version": "1.5.0",
          "state": {
            "_model_module": "@jupyter-widgets/controls",
            "_model_module_version": "1.5.0",
            "_model_name": "DescriptionStyleModel",
            "_view_count": null,
            "_view_module": "@jupyter-widgets/base",
            "_view_module_version": "1.2.0",
            "_view_name": "StyleView",
            "description_width": ""
          }
        }
      }
    }
  },
  "cells": [
    {
      "cell_type": "markdown",
      "metadata": {
        "id": "view-in-github",
        "colab_type": "text"
      },
      "source": [
        "<a href=\"https://colab.research.google.com/github/phuonghoathu/nothing1988nevergive/blob/main/L7_Synthetic_Data_FAQ_Generation.ipynb\" target=\"_parent\"><img src=\"https://colab.research.google.com/assets/colab-badge.svg\" alt=\"Open In Colab\"/></a>"
      ]
    },
    {
      "cell_type": "code",
      "execution_count": null,
      "metadata": {
        "id": "RERiyplwHQvj"
      },
      "outputs": [],
      "source": [
        "!pip install --quiet -U langchain chromadb langchain-openai pypdf gradio datasets"
      ]
    },
    {
      "cell_type": "code",
      "source": [
        "from langchain import hub\n",
        "from langchain.text_splitter import RecursiveCharacterTextSplitter\n",
        "from langchain_community.vectorstores import Chroma\n",
        "from langchain_openai import OpenAIEmbeddings\n",
        "from langchain_community.document_loaders import PyPDFLoader\n",
        "\n",
        "text_splitter = RecursiveCharacterTextSplitter(chunk_size=512, chunk_overlap=50)\n",
        "loader = PyPDFLoader(\"/content/VinaLLaMA_final.pdf\")\n",
        "splits = loader.load_and_split(text_splitter)"
      ],
      "metadata": {
        "id": "2wIoN7OLHbYr"
      },
      "execution_count": null,
      "outputs": []
    },
    {
      "cell_type": "code",
      "source": [
        "synthetic_prompt = \"\"\"\n",
        "Bạn sẽ được cung cấp với một đoạn văn bản. Nhiệm vụ của bạn là hãy dựa trên nội dung này và tạo ra 20 cặp câu hỏi theo dạng FAQ mà một người bình thường sẽ hỏi:\n",
        "---CONTEXT---\n",
        "{context}\n",
        "{context2}\n",
        "---END---\n",
        "Bạn hãy tạo ra 20 cặp câu hỏi theo dạng FAQ mà một người bình thường sẽ hỏi với format như sau\n",
        "---FORMAT INSTRUCTION---\n",
        "Question:\n",
        "<question1>\n",
        "Answer:\n",
        "<answer1>\n",
        "\n",
        "Question:\n",
        "<question2>\n",
        "Answer:\n",
        "<answer2>\n",
        "... do this 10 times\n",
        "---END---\n",
        "Now, let's start\n",
        "---START---\n",
        "\"\"\""
      ],
      "metadata": {
        "id": "yL20MshNHufM"
      },
      "execution_count": null,
      "outputs": []
    },
    {
      "cell_type": "code",
      "source": [
        "splits[0].page_content"
      ],
      "metadata": {
        "colab": {
          "base_uri": "https://localhost:8080/",
          "height": 106
        },
        "id": "qfu42LQFIf6H",
        "outputId": "14a7d2bc-6b1e-4ac1-c25f-64611eeed52f"
      },
      "execution_count": null,
      "outputs": [
        {
          "output_type": "execute_result",
          "data": {
            "text/plain": [
              "'VinaLLaMA: LLaMA-based Vietnamese Foundation Model\\nQuan Nguyen∗, Huy Pham and†Dung Dao‡\\nDecember 15, 2023\\nAbstract\\nIn this technical report, we present VinaLLaMA, an open-source, state-of-the-art (SOTA)\\nLarge Language Model for the Vietnamese language, built upon LLaMA-2 with an additional\\n800 billion trained tokens. VinaLLaMA not only demonstrates fluency in Vietnamese but also\\nexhibits a profound understanding of Vietnamese culture, making it a truly indigenous model.'"
            ],
            "application/vnd.google.colaboratory.intrinsic+json": {
              "type": "string"
            }
          },
          "metadata": {},
          "execution_count": 95
        }
      ]
    },
    {
      "cell_type": "code",
      "source": [
        "gen_prompt = synthetic_prompt.format(context=splits[0].page_content, context2=splits[1].page_content)"
      ],
      "metadata": {
        "id": "FDLKVdX8IhQb"
      },
      "execution_count": null,
      "outputs": []
    },
    {
      "cell_type": "code",
      "source": [
        "print(gen_prompt)"
      ],
      "metadata": {
        "colab": {
          "base_uri": "https://localhost:8080/"
        },
        "id": "x0w3mRk1kAHw",
        "outputId": "4f0dd487-eef9-48e5-afcb-2af8bcce12c3"
      },
      "execution_count": null,
      "outputs": [
        {
          "output_type": "stream",
          "name": "stdout",
          "text": [
            "\n",
            "Bạn sẽ được cung cấp với một đoạn văn bản. Nhiệm vụ của bạn là hãy dựa trên nội dung này và tạo ra 20 cặp câu hỏi theo dạng FAQ mà một người bình thường sẽ hỏi:\n",
            "---CONTEXT---\n",
            "VinaLLaMA: LLaMA-based Vietnamese Foundation Model\n",
            "Quan Nguyen∗, Huy Pham and†Dung Dao‡\n",
            "December 15, 2023\n",
            "Abstract\n",
            "In this technical report, we present VinaLLaMA, an open-source, state-of-the-art (SOTA)\n",
            "Large Language Model for the Vietnamese language, built upon LLaMA-2 with an additional\n",
            "800 billion trained tokens. VinaLLaMA not only demonstrates fluency in Vietnamese but also\n",
            "exhibits a profound understanding of Vietnamese culture, making it a truly indigenous model.\n",
            "VinaLLaMA-7B-chat, trained on 1-million high quality synthetic samples, achieves SOTA results\n",
            "on key benchmarks, including VLSP, VMLU, and Vicuna Benchmark Vietnamese, marking a\n",
            "significant advancement in the Vietnamese AI landscape and offering a versatile resource for various\n",
            "applications.\n",
            "1 Introduction\n",
            "The surge in Large Language Models (LLMs) such as ChatGPT and GPT-4 has significantly advanced\n",
            "the field of artificial intelligence (AI), particularly in language processing. In 2023, Vietnam’s AI\n",
            "---END---\n",
            "Bạn hãy tạo ra 20 cặp câu hỏi theo dạng FAQ mà một người bình thường sẽ hỏi với format như sau\n",
            "---FORMAT INSTRUCTION---\n",
            "Question:\n",
            "<question1>\n",
            "Answer:\n",
            "<answer1>\n",
            "\n",
            "Question:\n",
            "<question2>\n",
            "Answer:\n",
            "<answer2>\n",
            "... do this 10 times\n",
            "---END---\n",
            "Now, let's start\n",
            "---START---\n",
            "\n"
          ]
        }
      ]
    },
    {
      "cell_type": "code",
      "source": [
        "from openai import OpenAI\n",
        "from google.colab import userdata\n",
        "userdata.get('OPENAI_API_KEY')\n",
        "llm = OpenAI(api_key=userdata.get('OPENAI_API_KEY'))"
      ],
      "metadata": {
        "id": "e9-iYmfrIvkV"
      },
      "execution_count": null,
      "outputs": []
    },
    {
      "cell_type": "code",
      "source": [
        "response = llm.chat.completions.create(model='gpt-3.5-turbo',\n",
        "            messages=[{\"role\": \"user\", \"content\": gen_prompt}],\n",
        "            temperature=0.1,)"
      ],
      "metadata": {
        "id": "e-sg2UvBI3D4"
      },
      "execution_count": null,
      "outputs": []
    },
    {
      "cell_type": "code",
      "source": [
        "print(response.choices[0].message.content)"
      ],
      "metadata": {
        "colab": {
          "base_uri": "https://localhost:8080/"
        },
        "id": "KqIhiJKgJEFd",
        "outputId": "92020860-ce74-456b-e44f-75a0e4422040"
      },
      "execution_count": null,
      "outputs": [
        {
          "output_type": "stream",
          "name": "stdout",
          "text": [
            "Question:\n",
            "What is VinaLLaMA?\n",
            "Answer:\n",
            "VinaLLaMA is an open-source, state-of-the-art Large Language Model for the Vietnamese language.\n",
            "\n",
            "Question:\n",
            "How many trained tokens does VinaLLaMA have?\n",
            "Answer:\n",
            "VinaLLaMA is built upon LLaMA-2 with an additional 800 billion trained tokens.\n",
            "\n",
            "Question:\n",
            "What sets VinaLLaMA apart from other language models?\n",
            "Answer:\n",
            "VinaLLaMA not only demonstrates fluency in Vietnamese but also exhibits a profound understanding of Vietnamese culture.\n",
            "\n",
            "Question:\n",
            "What is VinaLLaMA-7B-chat trained on?\n",
            "Answer:\n",
            "VinaLLaMA-7B-chat is trained on 1-million high quality synthetic samples.\n",
            "\n",
            "Question:\n",
            "What benchmarks has VinaLLaMA-7B-chat achieved SOTA results on?\n",
            "Answer:\n",
            "VinaLLaMA-7B-chat has achieved SOTA results on key benchmarks including VLSP, VMLU, and Vicuna Benchmark Vietnamese.\n",
            "\n",
            "Question:\n",
            "How does VinaLLaMA contribute to the Vietnamese AI landscape?\n",
            "Answer:\n",
            "VinaLLaMA marks a significant advancement in the Vietnamese AI landscape and offers a versatile resource for various applications.\n",
            "\n",
            "Question:\n",
            "What is the significance of Large Language Models like VinaLLaMA in AI?\n",
            "Answer:\n",
            "Large Language Models like VinaLLaMA have significantly advanced the field of artificial intelligence, particularly in language processing.\n",
            "\n",
            "Question:\n",
            "What are some examples of other Large Language Models mentioned in the technical report?\n",
            "Answer:\n",
            "Some examples mentioned in the report are ChatGPT and GPT-4.\n",
            "\n",
            "Question:\n",
            "How does VinaLLaMA benefit users of the Vietnamese language?\n",
            "Answer:\n",
            "VinaLLaMA benefits users by providing a model that is fluent in Vietnamese and culturally aware.\n",
            "\n",
            "Question:\n",
            "What is the release date of the VinaLLaMA technical report?\n",
            "Answer:\n",
            "The technical report for VinaLLaMA was released on December 15, 2023.\n"
          ]
        }
      ]
    },
    {
      "cell_type": "code",
      "source": [
        "def parse_qa_pairs(text):\n",
        "    \"\"\"\n",
        "    Parses a given text containing questions and answers into a list of dictionaries.\n",
        "\n",
        "    Parameters:\n",
        "    - text (str): A string containing questions and answers in a structured format.\n",
        "\n",
        "    Returns:\n",
        "    - List[Dict[str, str]]: A list of dictionaries, each representing a question-answer pair.\n",
        "    \"\"\"\n",
        "    qa_pairs_simplified = []\n",
        "\n",
        "    # Split the text based on \"Question:\" as a delimiter and ignore the first split which is empty\n",
        "    sections = text.split(\"Question:\\n\")[1:]\n",
        "\n",
        "    for section in sections:\n",
        "        # Each section contains one question and one answer split by \"Answer:\"\n",
        "        question_part, answer_part = section.split(\"\\nAnswer:\\n\")\n",
        "        question = question_part.strip()\n",
        "        answer = answer_part.strip()\n",
        "        qa_pairs_simplified.append({\"question\": question, \"answer\": answer})\n",
        "\n",
        "    return qa_pairs_simplified"
      ],
      "metadata": {
        "id": "3DzPqoDjJK-z"
      },
      "execution_count": null,
      "outputs": []
    },
    {
      "cell_type": "code",
      "source": [
        "qa = parse_qa_pairs(response.choices[0].message.content)"
      ],
      "metadata": {
        "id": "ENCQt2PDKAAj"
      },
      "execution_count": null,
      "outputs": []
    },
    {
      "cell_type": "code",
      "source": [
        "qa"
      ],
      "metadata": {
        "colab": {
          "base_uri": "https://localhost:8080/"
        },
        "id": "TtjLZ8UVKB5b",
        "outputId": "73c8bc74-6bfe-4433-8982-0172b3e4ffc1"
      },
      "execution_count": null,
      "outputs": [
        {
          "output_type": "execute_result",
          "data": {
            "text/plain": [
              "[{'question': 'What is VinaLLaMA?',\n",
              "  'answer': 'VinaLLaMA is an open-source, state-of-the-art Large Language Model for the Vietnamese language.'},\n",
              " {'question': 'How many trained tokens does VinaLLaMA have?',\n",
              "  'answer': 'VinaLLaMA is built upon LLaMA-2 with an additional 800 billion trained tokens.'},\n",
              " {'question': 'What sets VinaLLaMA apart from other language models?',\n",
              "  'answer': 'VinaLLaMA not only demonstrates fluency in Vietnamese but also exhibits a profound understanding of Vietnamese culture.'},\n",
              " {'question': 'What is VinaLLaMA-7B-chat trained on?',\n",
              "  'answer': 'VinaLLaMA-7B-chat is trained on 1-million high quality synthetic samples.'},\n",
              " {'question': 'What benchmarks has VinaLLaMA-7B-chat achieved SOTA results on?',\n",
              "  'answer': 'VinaLLaMA-7B-chat has achieved SOTA results on key benchmarks including VLSP, VMLU, and Vicuna Benchmark Vietnamese.'},\n",
              " {'question': 'How does VinaLLaMA contribute to the Vietnamese AI landscape?',\n",
              "  'answer': 'VinaLLaMA marks a significant advancement in the Vietnamese AI landscape and offers a versatile resource for various applications.'},\n",
              " {'question': 'What is the significance of Large Language Models like VinaLLaMA in AI?',\n",
              "  'answer': 'Large Language Models like VinaLLaMA have significantly advanced the field of artificial intelligence, particularly in language processing.'},\n",
              " {'question': 'What are some examples of other Large Language Models mentioned in the technical report?',\n",
              "  'answer': 'Some examples mentioned in the report are ChatGPT and GPT-4.'},\n",
              " {'question': 'How does VinaLLaMA benefit users of the Vietnamese language?',\n",
              "  'answer': 'VinaLLaMA benefits users by providing a model that is fluent in Vietnamese and culturally aware.'},\n",
              " {'question': 'What is the release date of the VinaLLaMA technical report?',\n",
              "  'answer': 'The technical report for VinaLLaMA was released on December 15, 2023.'}]"
            ]
          },
          "metadata": {},
          "execution_count": 105
        }
      ]
    },
    {
      "cell_type": "markdown",
      "source": [
        "##Convert to ShareGPT"
      ],
      "metadata": {
        "id": "1EG_fZcnNCdy"
      }
    },
    {
      "cell_type": "code",
      "source": [
        "sharegpt_data = []\n",
        "for pair in qa:\n",
        "  convo = {}\n",
        "  convo['conversations'] = [{\"from\": \"human\", \"value\": pair['question']}, {\"from\": \"gpt\", \"value\": pair['answer']}]\n",
        "  sharegpt_data.append(convo)"
      ],
      "metadata": {
        "id": "ahKOnWV4NEdj"
      },
      "execution_count": null,
      "outputs": []
    },
    {
      "cell_type": "code",
      "source": [
        "sharegpt_data"
      ],
      "metadata": {
        "colab": {
          "base_uri": "https://localhost:8080/"
        },
        "id": "9aRdX7gLlZFj",
        "outputId": "f28d601d-65b4-40fb-d1b9-905335d15934"
      },
      "execution_count": null,
      "outputs": [
        {
          "output_type": "execute_result",
          "data": {
            "text/plain": [
              "[{'conversations': [{'from': 'human', 'value': 'What is VinaLLaMA?'},\n",
              "   {'from': 'gpt',\n",
              "    'value': 'VinaLLaMA is an open-source, state-of-the-art Large Language Model for the Vietnamese language.'}]},\n",
              " {'conversations': [{'from': 'human',\n",
              "    'value': 'How many trained tokens does VinaLLaMA have?'},\n",
              "   {'from': 'gpt',\n",
              "    'value': 'VinaLLaMA is built upon LLaMA-2 with an additional 800 billion trained tokens.'}]},\n",
              " {'conversations': [{'from': 'human',\n",
              "    'value': 'What sets VinaLLaMA apart from other language models?'},\n",
              "   {'from': 'gpt',\n",
              "    'value': 'VinaLLaMA not only demonstrates fluency in Vietnamese but also exhibits a profound understanding of Vietnamese culture.'}]},\n",
              " {'conversations': [{'from': 'human',\n",
              "    'value': 'What is VinaLLaMA-7B-chat trained on?'},\n",
              "   {'from': 'gpt',\n",
              "    'value': 'VinaLLaMA-7B-chat is trained on 1-million high quality synthetic samples.'}]},\n",
              " {'conversations': [{'from': 'human',\n",
              "    'value': 'What benchmarks has VinaLLaMA-7B-chat achieved SOTA results on?'},\n",
              "   {'from': 'gpt',\n",
              "    'value': 'VinaLLaMA-7B-chat has achieved SOTA results on key benchmarks including VLSP, VMLU, and Vicuna Benchmark Vietnamese.'}]},\n",
              " {'conversations': [{'from': 'human',\n",
              "    'value': 'How does VinaLLaMA contribute to the Vietnamese AI landscape?'},\n",
              "   {'from': 'gpt',\n",
              "    'value': 'VinaLLaMA marks a significant advancement in the Vietnamese AI landscape and offers a versatile resource for various applications.'}]},\n",
              " {'conversations': [{'from': 'human',\n",
              "    'value': 'What is the significance of Large Language Models like VinaLLaMA in AI?'},\n",
              "   {'from': 'gpt',\n",
              "    'value': 'Large Language Models like VinaLLaMA have significantly advanced the field of artificial intelligence, particularly in language processing.'}]},\n",
              " {'conversations': [{'from': 'human',\n",
              "    'value': 'What are some examples of other Large Language Models mentioned in the technical report?'},\n",
              "   {'from': 'gpt',\n",
              "    'value': 'Some examples mentioned in the report are ChatGPT and GPT-4.'}]},\n",
              " {'conversations': [{'from': 'human',\n",
              "    'value': 'How does VinaLLaMA benefit users of the Vietnamese language?'},\n",
              "   {'from': 'gpt',\n",
              "    'value': 'VinaLLaMA benefits users by providing a model that is fluent in Vietnamese and culturally aware.'}]},\n",
              " {'conversations': [{'from': 'human',\n",
              "    'value': 'What is the release date of the VinaLLaMA technical report?'},\n",
              "   {'from': 'gpt',\n",
              "    'value': 'The technical report for VinaLLaMA was released on December 15, 2023.'}]}]"
            ]
          },
          "metadata": {},
          "execution_count": 107
        }
      ]
    },
    {
      "cell_type": "code",
      "source": [
        "# prompt: save sharegpt_data to a json file with enforce anscii = false\n",
        "\n",
        "import json\n",
        "\n",
        "with open('sharegpt_data.json', 'w', encoding='utf-8') as f:\n",
        "  json.dump(sharegpt_data, f, indent=4, ensure_ascii=False)"
      ],
      "metadata": {
        "id": "k1hhgndbN88c"
      },
      "execution_count": null,
      "outputs": []
    },
    {
      "cell_type": "code",
      "source": [
        "import datasets\n",
        "\n",
        "dataset = datasets.load_dataset('json', data_files='sharegpt_data.json')"
      ],
      "metadata": {
        "colab": {
          "base_uri": "https://localhost:8080/",
          "height": 49,
          "referenced_widgets": [
            "8d501829d4be4c75aa81c7e90e3efeda",
            "2b09136f870e42668d570358323d1fdf",
            "96883142a6c240afa31c92c9eed330ef",
            "a4ad58378c3546ca8f16886790326ef2",
            "6f93962f4e1f486196ff95f39fbb1edc",
            "d471e3b0b6fa42aa918f6523930494dd",
            "32b72535f0314d14a64172d8734673a6",
            "93a6251d14d84fb7953934f6c2986e20",
            "e4ef0da20e8140f69b8170554db59d3c",
            "c54602a51be34ca1989383bd78c240cf",
            "dd2e083e1e6e40d7a5724837029dc003"
          ]
        },
        "id": "IpyfciYKN9Lb",
        "outputId": "63caec5b-1e7f-41c8-dc06-0c5447abe2d8"
      },
      "execution_count": null,
      "outputs": [
        {
          "output_type": "display_data",
          "data": {
            "text/plain": [
              "Generating train split: 0 examples [00:00, ? examples/s]"
            ],
            "application/vnd.jupyter.widget-view+json": {
              "version_major": 2,
              "version_minor": 0,
              "model_id": "8d501829d4be4c75aa81c7e90e3efeda"
            }
          },
          "metadata": {}
        }
      ]
    },
    {
      "cell_type": "code",
      "source": [
        "dataset.push_to_hub('qnguyen3/demo_faq')"
      ],
      "metadata": {
        "colab": {
          "base_uri": "https://localhost:8080/",
          "height": 186,
          "referenced_widgets": [
            "e80e4ded80d845ea8c6f153e508d442c",
            "1a778c877f604a20babdeadd5076664a",
            "632da392f7ed425a9648456c72d3e1da",
            "78b64b84de3f4af6b61da5b4513d027f",
            "287ee235ea6145228b315c457c90b9e9",
            "76b75b7ca5ac47e3b86bd2f39222590f",
            "a62ac874df6b4dce9b1a1442bce6d477",
            "09a19f92d4754279b73fc20c0d1d8c22",
            "a318c3b1f5f146949e29ecf591190253",
            "d9c6add743cb4a919fa5883815dca134",
            "a6aff431cd364fc38f7f08e867eb8a2f",
            "f03d60cd4da840f4822f7f3a61003bad",
            "e7172e438db94856ab95c25d6c6bb6ea",
            "087453ee3e044b7291af0965cbc6a572",
            "d355c4abaa644ca58046e8811ab67e10",
            "1e1a34123d704b0d86a381d2986a45d5",
            "79b276b38f884496b1430aea8e7764fa",
            "473ff113ce324cfdbd3e53294dd35134",
            "5e8d46f783204b9ca5738d1470ea806f",
            "67cdc7f5053948968cd2068468fba524",
            "7123046189424ae3ade44a8be589018d",
            "a4eaf0b7512b4437ad3aa7301624b37b",
            "3b5248f26f6c444eb050a834d2349cf1",
            "8be9e19255b34d61a8aea87e7e22b7f1",
            "0a914156a03647f98a74f1511b1e6f2f",
            "24767e95dba14d3c804d27334818c693",
            "8610c751a6544fddbf6c86ab7fa2a9cd",
            "0f74615facfc4d6cb3b38a5b0c0993cd",
            "7c1bf77af921460d82d1fb3a4b22a2fd",
            "4681ab4e4f5a467e9b4fb9d0d8ce1f76",
            "0d921bfd727941da8dfff5008573e3f0",
            "a89469d3c3844f09ad1bbe2c786914be",
            "3352a62bba3e43efa134af419473f2c9"
          ]
        },
        "id": "-0NmYC64ONGz",
        "outputId": "897e5601-03c6-473e-f3c5-1f2df0c2ce5a"
      },
      "execution_count": null,
      "outputs": [
        {
          "output_type": "display_data",
          "data": {
            "text/plain": [
              "Uploading the dataset shards:   0%|          | 0/1 [00:00<?, ?it/s]"
            ],
            "application/vnd.jupyter.widget-view+json": {
              "version_major": 2,
              "version_minor": 0,
              "model_id": "e80e4ded80d845ea8c6f153e508d442c"
            }
          },
          "metadata": {}
        },
        {
          "output_type": "display_data",
          "data": {
            "text/plain": [
              "Creating parquet from Arrow format:   0%|          | 0/1 [00:00<?, ?ba/s]"
            ],
            "application/vnd.jupyter.widget-view+json": {
              "version_major": 2,
              "version_minor": 0,
              "model_id": "f03d60cd4da840f4822f7f3a61003bad"
            }
          },
          "metadata": {}
        },
        {
          "output_type": "display_data",
          "data": {
            "text/plain": [
              "README.md:   0%|          | 0.00/339 [00:00<?, ?B/s]"
            ],
            "application/vnd.jupyter.widget-view+json": {
              "version_major": 2,
              "version_minor": 0,
              "model_id": "3b5248f26f6c444eb050a834d2349cf1"
            }
          },
          "metadata": {}
        },
        {
          "output_type": "execute_result",
          "data": {
            "text/plain": [
              "CommitInfo(commit_url='https://huggingface.co/datasets/qnguyen3/demo_faq/commit/e4ebda7555b8e3f5f1232dd2d05eea52f92cf431', commit_message='Upload dataset', commit_description='', oid='e4ebda7555b8e3f5f1232dd2d05eea52f92cf431', pr_url=None, pr_revision=None, pr_num=None)"
            ],
            "application/vnd.google.colaboratory.intrinsic+json": {
              "type": "string"
            }
          },
          "metadata": {},
          "execution_count": 110
        }
      ]
    },
    {
      "cell_type": "code",
      "source": [],
      "metadata": {
        "id": "U8fAD6grOWO7"
      },
      "execution_count": null,
      "outputs": []
    }
  ]
}