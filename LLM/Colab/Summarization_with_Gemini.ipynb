{
  "nbformat": 4,
  "nbformat_minor": 0,
  "metadata": {
    "colab": {
      "provenance": []
    },
    "kernelspec": {
      "name": "python3",
      "display_name": "Python 3"
    },
    "language_info": {
      "name": "python"
    }
  },
  "cells": [
    {
      "cell_type": "code",
      "execution_count": null,
      "metadata": {
        "id": "cSURbcjNiv2P"
      },
      "outputs": [],
      "source": [
        "!pip install -q -U google-generativeai"
      ]
    },
    {
      "cell_type": "markdown",
      "source": [
        "### Setup your API key\n",
        "\n",
        "Before you can use the Gemini API, you must first obtain an API key. If you don't already have one, create a key with one click in Google AI Studio.\n",
        "\n",
        "<a class=\"button button-primary\" href=\"https://makersuite.google.com/app/apikey\" target=\"_blank\" rel=\"noopener noreferrer\">Get an API key</a>"
      ],
      "metadata": {
        "id": "gLyKHgbXvJ65"
      }
    },
    {
      "cell_type": "markdown",
      "source": [
        "In Colab, add the key to the secrets manager under the \"🔑\" in the left panel. Give it the name `GOOGLE_API_KEY`."
      ],
      "metadata": {
        "id": "wyQuiufPvMg-"
      }
    },
    {
      "cell_type": "markdown",
      "source": [
        "Once you have the API key, pass it to the SDK. You can do this in two ways:\n",
        "\n",
        "* Put the key in the `GOOGLE_API_KEY` environment variable (the SDK will automatically pick it up from there).\n",
        "* Pass the key to `genai.configure(api_key=...)`"
      ],
      "metadata": {
        "id": "IioawB1nvNPN"
      }
    },
    {
      "cell_type": "code",
      "source": [
        "# Used to securely store your API key\n",
        "from google.colab import userdata\n",
        "\n",
        "api_key = userdata.get('GOOGLE_API_KEY')"
      ],
      "metadata": {
        "id": "I8g44smpjZ1D"
      },
      "execution_count": null,
      "outputs": []
    },
    {
      "cell_type": "code",
      "source": [
        "import google.generativeai as genai\n",
        "genai.configure(api_key=api_key)\n",
        "model = genai.GenerativeModel('gemini-pro')"
      ],
      "metadata": {
        "id": "CRmiFguijjOl"
      },
      "execution_count": null,
      "outputs": []
    },
    {
      "cell_type": "code",
      "source": [
        "def split_file(file_path):\n",
        "    with open(file_path, 'r') as file:\n",
        "        content = file.read()\n",
        "\n",
        "    # Remove leading/trailing whitespace and split the content into sentences\n",
        "    sentences = content.strip().split('.')\n",
        "\n",
        "    # Remove empty sentences\n",
        "    sentences = [sentence.strip() for sentence in sentences if sentence.strip()]\n",
        "\n",
        "    # Calculate the number of sentences per chunk\n",
        "    total_sentences = len(sentences)\n",
        "    chunk_size = total_sentences // 10\n",
        "\n",
        "    chunks = []\n",
        "    start = 0\n",
        "    for i in range(9):\n",
        "        end = start + chunk_size\n",
        "        chunk = sentences[start:end]\n",
        "        chunks.append('. '.join(chunk) + '.')\n",
        "        start = end\n",
        "\n",
        "    # Add the remaining sentences to the last chunk\n",
        "    last_chunk = sentences[start:]\n",
        "    chunks.append('. '.join(last_chunk) + '.')\n",
        "\n",
        "    return chunks\n",
        "\n",
        "# Example usage\n",
        "file_path = '/content/vinallama.txt'\n",
        "chunks = split_file(file_path)\n",
        "\n",
        "for i, chunk in enumerate(chunks, 1):\n",
        "    print(f\"Chunk {i}:\")\n",
        "    print(chunk)\n",
        "    print()"
      ],
      "metadata": {
        "colab": {
          "base_uri": "https://localhost:8080/"
        },
        "id": "GXLjHEunjjq9",
        "outputId": "0ecdd981-2a3a-4582-ad5a-e1af70ad665e"
      },
      "execution_count": null,
      "outputs": [
        {
          "output_type": "stream",
          "name": "stdout",
          "text": [
            "Chunk 1:\n",
            "In this technical report, we present VinaLLaMA, an open-source, state-of-the-art (SOTA) Large Language Model for the Vietnamese language, built upon LLaMA-2 with an additional 800 billion trained tokens. VinaLLaMA not only demonstrates fluency in Vietnamese but also exhibits a profound understanding of Vietnamese culture, making it a truly indigenous model. VinaLLaMA-7B-chat, trained on 1-million high quality synthetic samples, achieves SOTA results on key benchmarks, including VLSP, VMLU, and Vicuna Benchmark Vietnamese, marking a significant advancement in the Vietnamese AI landscape and offering a versatile resource for various applications. 1 Introduction \n",
            "The surge in Large Language Models (LLMs) such as ChatGPT and GPT-4 has significantly advanced the field of artificial intelligence (AI), particularly in language processing. In 2023, Vietnam’s AI sector witnessed a notable development with the introduction of several Vietnamese-centric LLMs, including BLOOMZ’s Vietcuna, URA-LLaMA, PhoGPT, and dama-2. Amidst this progression, we introduce VinaLLaMA, a foundational LLM designed specifically for the Vietnamese language. VinaL- LaMA, built on top of LLaMA-2, represents a vital stride towards linguistic inclusivity in AI, adeptly addressing the syntactic and semantic intricacies of Vietnamese. Embracing the spirit of collaboration and open innovation, we are pleased to announce the open sourcing of VinaLLaMA-7B and its chat variant. These models are now accessible on HuggingFace, ensuring compatibility with all ’transformers’ framework-supported libraries. This endeavor not only contributes to the global AI research landscape but also provides a specialized tool for exploring and enhancing Vietnamese language processing, encouraging a wider engagement and application in AI- driven NLP research. 2 Related Work2. 1 Large Language Models. The growth of large language models (LLMs) start from Transformer [VSP+17], which was the base architecture to later pre-train BERT [CMCC23] and GPT [RNSS] with large-scale unsupervised data. These models lead to the appearance of popular foundation models RoBERTa [LOG+19], T5 [RSR+20] and BART [LLG+20]. Later, GPT-3 [BMR+20] perform the ability of few-shot and zero-shot learning through prompt engineering and in-context learning.\n",
            "\n",
            "Chunk 2:\n",
            "Later, ChatGPT (OpenAI, 2022) and GPT-4 (OpenAI, 2023) are the two big milestone for not only in the field of language model, but also in aritifical intelligence and other fields. These models show the variety of skills with high quality output. These also lead to the raise of LLMs, which includes Llama [RSR+20], Llama-2 [TMS+23], Bloom [WSF+22], Falcon [AAA+23], Qwen [BBC+23] and Mistral [JSM+23]. 2. 2 Vietnamese Large Language Models. The landscape of Vietnamese Large Language Models has been evolving with significant contributions. Vietcuna [NPD23b] emerged as the pioneering model in this domain, initially undergoing further pre-training on the BLOOMZ [WSF+22] model. It was subsequently enhanced through fine-tuning with the OpenOrca-Viet [NPD23a] dataset, optimizing its performance in Vietnamese language tasks. In a different approach, URA-Llama [NTN+23] was developed, leveraging fine-tuning on a corpus of Vietnamese articles, building upon the foundational architecture of Llama-2. Furthermore, the PhoGPT [NNT+23] model represents another notable advancement. It was initially pre-trained on a substantial corpus of 41GB of text data, followed by a focused fine-tuning process utilizing a dataset of 150,000 samples, thereby broadening its capabilities in understanding and generating Vietnamese text. 2. 3 Alignment. To enhance the ability of language model, including in-context learning, reasoning, instruction learn- ing,. we need to align the model with some downstream dataset and supervised fine-tuning the LLMs on these dataset.\n",
            "\n",
            "Chunk 3:\n",
            "Flan [WBZ+21] introduce instruction tuning and release the first public dataset which includes huge amount of different tasks with different templates. This improve the general performance of LLms a lot. Later, InstructGPT [OWJ+22] apply human feedback to modify the model output, help the model to generate the text with less toxic and higher quality, compare to other models. Vicuna and Guanaco include chat data from open-assistant dataset, which enhacne the chat ability of the model. Recently, since the ability of GPT-3,5 and GPT-4, many synthetic dataset that are generated from these models have been popularly applied such as: OpenOrca [WKM+22b], Dolphin [WKM+22a], OpenOrca-2 [WKM+22c], Platypus [LHR23]. 3 Training Procedure 3. 1 Pretraining \n",
            "LLaMA-2, a highly regarded pre-trained language model in English, shows a significant gap in handling Vietnamese-related content due to limited relevant tokens in its training set. Additionally, its original tokenizer falls short in multilingual applications. To address these issues, we compiled a new pretraining dataset combining public and synthetic in-house data. We selected BKAI’s LLaMA-2-chat tokenizer for the tokenizer, which has been specifically made for Vietnamese. This tokenizer shows enhanced performance in processing the Vietnamese language, making it a suitable choice for our VinaLLaMA model. 3. 1. 1 Public Data \n",
            "Books. The dataset encompassing Vietnamese literature in our study is comprehensive, comprising 250,000 volumes.\n",
            "\n",
            "Chunk 4:\n",
            "This extensive collection spans various domains, including science, history, finance, and philosophy, as well as fiction genres like novels and science fiction, in addition to traditional Viet- namese literature. The distribution of these categories is methodically illustrated in Figure 1. Public News. The dataset under examination is derived from two principal Vietnamese news sources, VnExpress 1 and BaoMoi 2. This compilation encompasses an exhaustive collection of articles dis- seminated by these entities from January 1, 2010, through September 30, 2023. To align with ethical guidelines and content appropriateness standards, a filtration process was implemented, systematically excluding articles that contained keywords indicative of harmful or violent content. The inclusion of this public news data is crucial, as it helps the model better understand and represent important aspects related to Vietnam and its people. Finally, we also include a subset of Vietnamese from CulturaX and an additional 100B tokens in English. The final public dataset has a total of roughly 330 billion tokens. 3. 1. 2 In-house Data \n",
            "Influenced by the concept of synthetic textbooks for pretraining [GZA+23], our approach incorporates a mechanism that selects random text segments from a publicly available dataset. These segments are then integrated into over 80 bespoke prompt templates, each meticulously crafted to facilitate the rewriting task. The prompts, when fed into GPT-4, result in roughly 100,000 samples. These samples represent a high-quality synthetic dataset, specifically tailored for pretraining purposes.\n",
            "\n",
            "Chunk 5:\n",
            "The methodology and workflow of this process are illustrated in Figure 2. Additionally, we employed Vietcuna-3B-v2, our successor smaller-scale language model, to train on the synthetic samples generated in Step 1. This training process utilized the rewriting task-specific prompts previously developed (as outlined in Step 2. 1), which is detailed in Figure 3. Subsequently, we replicated the procedure from Step 1 using this newly trained model. This iteration resulted in the generation of over 500 billion synthetic tokens, a process detailed in Step 2. 2. The final result of this process is morning 500 bilions of high quality Vietnamese tokens ready to be used to continue pretrain on the base LLaMA 2 with the expanded tokenizer. 3. 2 Supervised Instruction Fine-tuning \n",
            "In collaboration with Nous Research 3, we employed proprietary methodologies to create 500,000 Viet- namese synthetic samples. These samples encompassed both instructional and conversational formats. To enhance the dataset, an additional 500,000 English samples were sourced from the OpenHermes-2. 5 [tek23] and Capybara [DS23] datasets, also provided by Nous Research. This integration of datasets culminated in a comprehensive collection of 1 million samples, paving the way for the development of a bilingual language model. The comprehensive final dataset encompasses an array of tasks, including reasoning, role-playing, poem writing, coding, function calling, and agent prompting.\n",
            "\n",
            "Chunk 6:\n",
            "This diversity ensures a broad scope of capabilities in the final model. We conducted a full fine-tuning of our pre- trained model over four epochs, which led to the creation of a state-of-the-art foundation language model specifically tailored for the Vietnamese language, more on the result in Section 4. 3. 3 VinaLLaMA-2. 7B \n",
            "Adopting the structured pruning procedure outlined in [XGZC23], we successfully reduced our model to a more compact variant with 2. 7 billion parameters. This process involved strategically pruning the network while retaining its core functional capabilities. Following the reduction in size, we applied the same supervised fine-tuning methodology to this smaller variant as was used for the 7B model, ensuring consistency in training approach across different model scales. 4 Evaluation \n",
            "In our research, we utilized three distinct evaluation benchmarks: VLSP, VMLU, and the Vicuna Benchmark, with the latter being translated into Vietnamese by VinAI Research. For each of these benchmarks, we implemented a dual-evaluation approach. Specifically, we conducted separate exper- iments for two categories of models: those in their pre-trained state and those that had undergone instructional fine-tuning. This methodology allowed us to compare the baseline capabilities of the pre-trained models against their performance post-instructional fine-tuning, providing insights into the effectiveness of fine-tuning in enhancing model proficiency within the context of these Vietnamese language benchmarks. For the pre-training benchmarks, we selected VLSP’s hoa-7b, BLOOM-7B, and PhoGPT-7B5 as the base models. In contrast, the instructional fine-tuned benchmarks comprised BLOOMZ-7B, Vietcuna- 7B-v3, PhoGPT-7B5-Instruct, URA-LLaMA-13B and SeaLLM-7B-chat. This diverse set of models provided a comprehensive perspective, enabling us to assess both the inherent capabilities of these models in their original form and their enhanced performance post-fine-tuning, specifically tailored to the Vietnamese language benchmarks.\n",
            "\n",
            "Chunk 7:\n",
            "4. 1 VLSP \n",
            "The first benchmark employed is the VLSP-LLM 2023 [CHC+23]. This benchmark parallels the Open- LLM Leaderboard by HuggingFace, tailored specifically for the Vietnamese language. It encompasses four distinct assessments: ARC Challenge, HellaSwag, MMLU, and TruthfulQA, each meticulously adapted to Vietnamese. This comprehensive benchmark suite allows for a robust evaluation of lan- guage models in understanding and generating Vietnamese text across various domains and complex- ities. The results are reported in Table 1 and Table 2. In the pretrained segment of our study, the VinaLLaMA-7B model demonstrated superior performance compared to other open-source Large Lan- guage Models (LLMs) that support Vietnamese. This was evident in its outperformance on three of the four benchmarks, leading to it achieving state-of-the-art results based on the average score across these benchmarks. This signifies the robustness and effectiveness of the VinaLLaMA-7B model in handling a variety of tasks in the Vietnamese language context. In the supervised fine-tuning domain, our results continued to reflect a high level of excellence. No- tably, VinaLLaMA-7B-chat, comparable in scale, astonishingly outperformed larger models, including those with 13 billion parameters, in terms of average score. This impressive achievement highlights the efficacy of the fine-tuning process and the model’s adeptness at leveraging its training to deliver outstanding performance, even against much larger counterparts. Adding to this, the VinaLLaMA- 2. 7B, a significantly smaller model, showcased remarkable performance. It not only competed closely with larger 7B variants but also exceeded PhoGPT-7B5-Instruct in performance, while achieving in- ferencing speeds 60% faster.\n",
            "\n",
            "Chunk 8:\n",
            "This showcases the model’s optimized balance between size, speed, and performance. The success of VinaLLaMA-7B-chat, and the noteworthy performance of VinaLLaMA- 2. 7B, underscore the considerable potential of well-implemented fine-tuning strategies with synthetic data in elevating the capabilities of Large Language Models, especially in contexts requiring specialized language processing. 4. 2 VMLU \n",
            "VMLU [AoST23], a benchmark suite tailored for evaluating foundation models in the Vietnamese language, comprises 10,880 multiple-choice questions across 58 subjects in domains like STEM, Hu- manities, and Social Sciences. Its diverse range of difficulty levels tests models from basic knowledge to advanced problem-solving. We selected VMLU for benchmarking due to its comprehensive coverage of Vietnam-related questions, providing a relevant and challenging environment for assessing model ca- pabilities in a context-specific manner. We conducted our experiments on the validation set of VMLU since the answers to test set are not publicly available, URA-LLaMA-13B is also not being test due to the lack of availability at testing time. We reported the results under two few-shot settings: 0-shot and 5-shot, which can be viewed in Table 3 and 4. 4. 3 Vicuna Benchmark Vietnamese \n",
            "The Vicuna Benchmark [ZCS+23], translated into Vietnamese by VinAI, serves as our final bench- mark. This comprehensive benchmark is composed of 80 distinct instructions spanning 9 diverse areas, providing a broad spectrum for assessing model capabilities. Uniquely, the evaluation of the results from all participating models is conducted using GPT-4, which introduces an innovative approach to performance assessment. This methodology employs an ELO ranking system, traditionally used in chess and other competitive games, to rate the models. Such a system offers a dynamic and rela- tive measure of model performance, allowing for a nuanced and comparative analysis of each model’s proficiency in handling a variety of tasks and instructions within the benchmark.\n",
            "\n",
            "Chunk 9:\n",
            "This ELO-based evaluation provides a clear and quantifiable ranking of the models, reflecting their effectiveness and adaptability in the context of the Vietnamese language and the specific challenges presented by the Vicuna Benchmark. In our Vicuna Benchmark evaluation, responses from models were assessed using a detailed five- point scale: 0 (’very bad’), 1 (’bad’), 2 (’ok’), 3 (’good’), and 4 (’very good’). This granular scoring system allows for an in-depth evaluation of the quality of each model’s response. The final ELO score for each model is computed by aggregating these individual ratings, providing a holistic measure of a model’s overall performance across the benchmark’s varied tasks. To ensure language relevance, we implemented a strict rule: any response not in Vietnamese is automatically assigned a score of 0. This criterion underscores the importance of language-specific accuracy in our evaluation. The collective results, reflecting model performances across different tasks, are visually represented in Figure 4. In the interest of transparency and further research, we have made VinaLLaMA’s responses and our evaluation code publicly available 4 5. This not only allows for independent verification of our results but also facilitates further advancements in the field by providing valuable resources to other researchers. The benchmark results revealed that VinaLLaMA showcased commendable performance in Viet- namese, closely trailing behind ChatGPT-3. 5-Turbo in some benchmarks. This indicates that VinaLLaMA is highly effective in Vietnamese language tasks, with only a slight margin separating it from the more advanced ChatGPT-3. 5-Turbo, as shown in Table 5 and Table 6. PhoGPT also demonstrated better outcomes compared to other Vietnamese benchmarks, yet it still fell significantly behind in some areas, highlighting potential avenues for improvement. In contrast, URA-LLaMA-7B and 13B models performed less effectively, with some of their re- sponses not aligning with Vietnamese language requirements.\n",
            "\n",
            "Chunk 10:\n",
            "This points to a critical need for targeted enhancements or language-specific training for these models to better cater to Vietnamese language processing. 5 Acknowledgement \n",
            "We are also immensely grateful to the teams at Nous Research, LAION, FPT Software AI Center, and Symato Team. Their assistance in the early stages of VinaLLaMA’s evaluation was crucial, providing insights that guided further improvements and enhancements of the model. We also want to send our appreciation to Nam Pham and Nhan Nguyen for the contribution in our public dataset. Lastly, our profound appreciation is extended to Google Cloud and Stability. AI. Their generous computational support was a cornerstone in bringing VinaLLaMA to fruition, enabling the intensive training and development processes required for such a sophisticated large language model. Their contribution was vital in transforming our vision for VinaLLaMA into a reality. 6 Conclusion \n",
            "In conclusion, the development of VinaLLaMA marks a significant milestone in the realm of language models, particularly in the context of Vietnamese language processing. Achieving state-of-the-art (SOTA) scores across all Vietnamese benchmarks, VinaLLaMA has demonstrated exceptional profi- ciency and adaptability. While its performance in English benchmarks was slightly less dominant, it still showed considerable competence, underscoring its effectiveness as a bilingual model. A key factor in VinaLLaMA’s success is the strategic use of carefully crafted synthetic data in its training regimen. This approach has proven to be highly effective, yielding impressive results and highlighting the importance of diverse and well-designed training datasets in the development of robust language models. VinaLLaMA’s achievements not only set a new standard for language models in Vietnamese but also contribute valuable insights into the broader field of natural language processing. It exemplifies how meticulous data preparation and comprehensive training can significantly enhance the capabilities of language models, paving the way for future advancements in this dynamic and rapidly evolving domain.\n",
            "\n"
          ]
        }
      ]
    },
    {
      "cell_type": "markdown",
      "source": [
        "Summarization (Tóm Tắt) là một trong số những task khó nhất cho các LLM. Nó đỏi hỏi LLM có khả năng xử lí long context nhưng vẫn có khả năng làm retrieval trên text tốt. Vì vậy, đối vơi đại đa số các LLM, chúng ta sẽ làm prompt chaining để triển khai bài toán này"
      ],
      "metadata": {
        "id": "B0afk9TekB4c"
      }
    },
    {
      "cell_type": "code",
      "source": [
        "question = \"\"\"\n",
        "Hãy tóm tắt văn bản: {context}.\n",
        "Tôi chỉ cần nội dung tóm tắt, không cần thêm bất kì thứ gì khác.\n",
        "\"\"\""
      ],
      "metadata": {
        "id": "o1ipgWKnkD56"
      },
      "execution_count": null,
      "outputs": []
    },
    {
      "cell_type": "code",
      "source": [
        "def build_final_context(chunks):\n",
        "    context = \"\"\n",
        "    for index, chunk in enumerate(chunks):\n",
        "        context +=  f\"Context {index + 1}: \" + chunk + \"\\n\"\n",
        "    return context"
      ],
      "metadata": {
        "id": "BSdiEVhckIIy"
      },
      "execution_count": null,
      "outputs": []
    },
    {
      "cell_type": "code",
      "source": [
        "context = build_final_context(chunks)\n",
        "context"
      ],
      "metadata": {
        "id": "hxW1kheHkMQ5"
      },
      "execution_count": null,
      "outputs": []
    },
    {
      "cell_type": "code",
      "source": [
        "%%time\n",
        "response = model.generate_content(question.format(context=context))"
      ],
      "metadata": {
        "colab": {
          "base_uri": "https://localhost:8080/",
          "height": 52
        },
        "id": "FhNi9-iqkRjI",
        "outputId": "dcc322ba-d2de-47a7-dc87-aba10cb8a941"
      },
      "execution_count": null,
      "outputs": [
        {
          "output_type": "stream",
          "name": "stdout",
          "text": [
            "CPU times: user 137 ms, sys: 15.6 ms, total: 153 ms\n",
            "Wall time: 7.85 s\n"
          ]
        }
      ]
    },
    {
      "cell_type": "code",
      "source": [
        "response.text"
      ],
      "metadata": {
        "colab": {
          "base_uri": "https://localhost:8080/",
          "height": 122
        },
        "id": "zIGQY34-kiIv",
        "outputId": "d7bbfd06-80fb-4657-8eea-afbf8b4540ec"
      },
      "execution_count": null,
      "outputs": [
        {
          "output_type": "execute_result",
          "data": {
            "text/plain": [
              "'VinaLLaMA là một Mô hình Ngôn ngữ Lớn (LLM) tiên tiến, nguồn mở, dành riêng cho tiếng Việt, được xây dựng dựa trên LLaMA-2 với 800 tỷ token được đào tạo thêm. VinaLLaMA không chỉ thể hiện sự lưu loát tiếng Việt mà còn hiểu sâu sắc về văn hóa Việt Nam, biến nó trở thành một mô hình thực sự bản địa. VinaLLaMA-7B-chat, được đào tạo trên 1 triệu mẫu tổng hợp chất lượng cao, đạt kết quả SOTA trên các điểm chuẩn chính, bao gồm VLSP, VMLU và Vicuna Benchmark Vietnamese, đánh dấu một bước tiến đáng kể trong bối cảnh AI của tiếng Việt và cung cấp một nguồn đa năng cho nhiều ứng dụng khác nhau.'"
            ],
            "application/vnd.google.colaboratory.intrinsic+json": {
              "type": "string"
            }
          },
          "metadata": {},
          "execution_count": 17
        }
      ]
    },
    {
      "cell_type": "code",
      "source": [
        "summarize_prompt = \"\"\"\n",
        "Sau đây là một nội dung được trích xuất của một văn bản, nhiệm vụ của bạn là hãy tóm tắt nó\n",
        "---CONTEXT---\n",
        "{context}\n",
        "---END CONTEXT---\n",
        "Hãy đưa ra tóm tắt của văn bản trên. Tôi chỉ cần phần tóm tắt, và không cần thêm bất kì thứ gì khác.\n",
        "Tóm Tắt:\n",
        "\"\"\"\n",
        "\n",
        "final_ans_prompt = \"\"\"\n",
        "Dưới đây là các đoạn tóm tắt của từng đoạn nhỏ của một văn bản lớn.\n",
        "---CONTEXT---\n",
        "{context}\n",
        "---END CONTEXT---\n",
        "Dựa trên các đoạn trên, hãy đưa ra tóm tắt tổng của tất cả các đoạn trên. Tôi chỉ cần tóm tắt tổng, không cần thêm bất kì thứ gì khác.\n",
        "Tóm tắt tổng:\n",
        "\"\"\""
      ],
      "metadata": {
        "id": "ZatHsFthoy_M"
      },
      "execution_count": null,
      "outputs": []
    },
    {
      "cell_type": "code",
      "source": [
        "summarize_chunks = []\n",
        "for chunk in chunks:\n",
        "  message = summarize_prompt.format(context=chunk)\n",
        "  response = model.generate_content(message)\n",
        "  summarize_chunks.append(response.text)\n",
        "summarize_chunks"
      ],
      "metadata": {
        "id": "3WHNodwUons2"
      },
      "execution_count": null,
      "outputs": []
    },
    {
      "cell_type": "code",
      "source": [
        "context_new = build_final_context(summarize_chunks)\n",
        "message = final_ans_prompt.format(context=context_new)\n",
        "response = model.generate_content(message)\n",
        "response.text\n"
      ],
      "metadata": {
        "colab": {
          "base_uri": "https://localhost:8080/",
          "height": 122
        },
        "id": "JPNlnrvdpTjA",
        "outputId": "b66c136e-907e-47a0-93fe-c6897715b4dd"
      },
      "execution_count": null,
      "outputs": [
        {
          "output_type": "execute_result",
          "data": {
            "text/plain": [
              "'VinaLLaMA-7B là một mô hình ngôn ngữ lớn tinh chỉnh hướng dẫn tiên tiến cho tiếng Việt, đạt hiệu suất vượt trội trong các điểm chuẩn về khả năng hiểu và tạo văn bản, nhờ dữ liệu tổng hợp được thiết kế cẩn thận. Các chiến lược tinh chỉnh được triển khai tốt với dữ liệu tổng hợp có tiềm năng nâng cao khả năng của các mô hình ngôn ngữ lớn, như được minh họa bởi sự cân bằng tối ưu giữa kích thước, tốc độ và hiệu suất của VinaLLaMA-7B-chat. Các bộ công cụ đánh giá như VMLU và Vicuna Benchmark Vietnamese cung cấp các cách đánh giá sáng tạo và toàn diện về hiệu suất của các mô hình này trên các nhiệm vụ đa dạng.'"
            ],
            "application/vnd.google.colaboratory.intrinsic+json": {
              "type": "string"
            }
          },
          "metadata": {},
          "execution_count": 22
        }
      ]
    },
    {
      "cell_type": "code",
      "source": [
        "samples_retrieval = ['Hôm nay, giá Bitcoin đã đạt đến một đỉnh mới.',\n",
        "           'Phở Việt Nam rất ngon, Hà Nội nổi tiếng với món Phở Bò.',\n",
        "           'Phở là món ăn Việt Nam xuất hiện ở rất nhiều nơi trên thế giới.',\n",
        "           'Một thị trường khó như Nhật cũng rất ấn tượng với món Phở Bò Việt Nam.']\n",
        "\n",
        "context = build_final_context(samples_retrieval)\n",
        "print(context)"
      ],
      "metadata": {
        "colab": {
          "base_uri": "https://localhost:8080/"
        },
        "id": "raTO-R--qhPC",
        "outputId": "7df78fa1-e6e1-4761-dcd9-d7cbef0ffa89"
      },
      "execution_count": null,
      "outputs": [
        {
          "output_type": "stream",
          "name": "stdout",
          "text": [
            "Context 1: Hôm nay, giá Bitcoin đã đạt đến một đỉnh mới.\n",
            "Context 2: Phở Việt Nam rất ngon, Hà Nội nổi tiếng với món Phở Bò.\n",
            "Context 3: Phở là món ăn Việt Nam xuất hiện ở rất nhiều nơi trên thế giới.\n",
            "Context 4: Một thị trường khó như Nhật cũng rất ấn tượng với món Phở Bò Việt Nam.\n",
            "\n"
          ]
        }
      ]
    },
    {
      "cell_type": "code",
      "source": [
        "sample_question = \"Hãy giới thiệu về món Phở Bò Việt Nam\"\n",
        "refinement_prompt = \"\"\"\n",
        "Dưới đây là các nội dung được trích xuất từ Database:\n",
        "---CONTEXT---\n",
        "{context}\n",
        "---END CONTEXT---\n",
        "Nhiệm vụ của bạn là hãy viết lại những nội dung trên dựa trên câu hỏi dưới đây, hãy loại bỏ các nội dung không liên quan để tránh gây nhiễu loạn. Tôi chỉ cần phần viết lại của bạn, vui lòng không thêm bất kì thông tin nào khác.\n",
        "Câu hỏi: {question}\n",
        "\"\"\""
      ],
      "metadata": {
        "id": "OmZZT7qVrPcw"
      },
      "execution_count": null,
      "outputs": []
    },
    {
      "cell_type": "code",
      "source": [
        "sample_message = refinement_prompt.format(context=context, question=sample_question)\n",
        "sample_response = model.generate_content(sample_message)\n",
        "sample_response.text"
      ],
      "metadata": {
        "colab": {
          "base_uri": "https://localhost:8080/",
          "height": 53
        },
        "id": "kvSuxKSarSJp",
        "outputId": "b2329242-8405-4aeb-9d78-06d2aa5a1660"
      },
      "execution_count": null,
      "outputs": [
        {
          "output_type": "execute_result",
          "data": {
            "text/plain": [
              "'* Phở là món ăn Việt Nam xuất hiện ở rất nhiều nơi trên thế giới.\\n* Thậm chí thị trường khó tính như Nhật Bản cũng rất thích món Phở Bò Việt Nam.'"
            ],
            "application/vnd.google.colaboratory.intrinsic+json": {
              "type": "string"
            }
          },
          "metadata": {},
          "execution_count": 7
        }
      ]
    }
  ]
}